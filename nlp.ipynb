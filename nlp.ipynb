{
 "cells": [
  {
   "cell_type": "markdown",
   "metadata": {},
   "source": [
    "# Natural Language processing "
   ]
  },
  {
   "cell_type": "code",
   "execution_count": 113,
   "metadata": {},
   "outputs": [],
   "source": [
    "import spacy\n",
    "import pandas as pd"
   ]
  },
  {
   "cell_type": "markdown",
   "metadata": {},
   "source": [
    "### Loading model "
   ]
  },
  {
   "cell_type": "code",
   "execution_count": 114,
   "metadata": {},
   "outputs": [],
   "source": [
    "nlp = spacy.load(\"en_core_web_sm\")"
   ]
  },
  {
   "cell_type": "markdown",
   "metadata": {},
   "source": [
    "### Reading from data set and printing "
   ]
  },
  {
   "cell_type": "code",
   "execution_count": 115,
   "metadata": {},
   "outputs": [
    {
     "name": "stdout",
     "output_type": "stream",
     "text": [
      "Sir Isaac Newton PRS (25 December 1642 – 20 March 1726/27[a]) was an English mathematician, physicist, astronomer, alchemist, theologian, and author (described in his time as a \"natural philosopher\") widely recognised as one of the greatest mathematicians and physicists of all time and among the most influential scientists. He was a key figure in the philosophical revolution known as the Enlightenment. His book Philosophiæ Naturalis Principia Mathematica (Mathematical Principles of Natural Philosophy), first published in 1687, established classical mechanics. Newton also made seminal contributions to optics, and shares credit with German mathematician Gottfried Wilhelm Leibniz for developing infinitesimal calculus.\n",
      "\n",
      "In the Principia, Newton formulated the laws of motion and universal gravitation that formed the dominant scientific viewpoint until it was superseded by the theory of relativity. Newton used his mathematical description of gravity to derive Kepler's laws of planetary motion, account for tides, the trajectories of comets, the precession of the equinoxes and other phenomena, eradicating doubt about the Solar System's heliocentricity. He demonstrated that the motion of objects on Earth and celestial bodies could be accounted for by the same principles. Newton's inference that the Earth is an oblate spheroid was later confirmed by the geodetic measurements of Maupertuis, La Condamine, and others, convincing most European scientists of the superiority of Newtonian mechanics over earlier systems.\n",
      "\n",
      "Newton built the first practical reflecting telescope and developed a sophisticated theory of colour based on the observation that a prism separates white light into the colours of the visible spectrum. His work on light was collected in his highly influential book Opticks, published in 1704. He also formulated an empirical law of cooling, made the first theoretical calculation of the speed of sound, and introduced the notion of a Newtonian fluid. In addition to his work on calculus, as a mathematician Newton contributed to the study of power series, generalised the binomial theorem to non-integer exponents, developed a method for approximating the roots of a function, and classified most of the cubic plane curves.\n",
      "\n",
      "Newton was a fellow of Trinity College and the second Lucasian Professor of Mathematics at the University of Cambridge. He was a devout but unorthodox Christian who privately rejected the doctrine of the Trinity. Unusually for a member of the Cambridge faculty of the day, he refused to take holy orders in the Church of England. Beyond his work on the mathematical sciences, Newton dedicated much of his time to the study of alchemy and biblical chronology, but most of his work in those areas remained unpublished until long after his death. Politically and personally tied to the Whig party, Newton served two brief terms as Member of Parliament for the University of Cambridge, in 1689–1690 and 1701–1702. He was knighted by Queen Anne in 1705 and spent the last three decades of his life in London, serving as Warden (1696–1699) and Master (1699–1727) of the Royal Mint, as well as president of the Royal Society (1703–1727).\n",
      "Contents\n",
      "\n",
      "Isaac Newton was born (according to the Julian calendar in use in England at the time) on Christmas Day, 25 December 1642 (NS 4 January 1643[a]), \"an hour or two after midnight\",[12] at Woolsthorpe Manor in Woolsthorpe-by-Colsterworth, a hamlet in the county of Lincolnshire. His father, also named Isaac Newton, had died three months before. Born prematurely, Newton was a small child; his mother Hannah Ayscough reportedly said that he could have fit inside a quart mug.[13] When Newton was three, his mother remarried and went to live with her new husband, the Reverend Barnabas Smith, leaving her son in the care of his maternal grandmother, Margery Ayscough (née Blythe). Newton disliked his stepfather and maintained some enmity towards his mother for marrying him, as revealed by this entry in a list of sins committed up to the age of 19: \"Threatening my father and mother Smith to burn them and the house over them.\"[14] Newton's mother had three children (Mary, Benjamin and Hannah) from her second marriage.[15]\n",
      "\n",
      "From the age of about twelve until he was seventeen, Newton was educated at The King's School, Grantham, which taught Latin and Ancient Greek and probably imparted a significant foundation of mathematics.[16] He was removed from school and returned to Woolsthorpe-by-Colsterworth by October 1659. His mother, widowed for the second time, attempted to make him a farmer, an occupation he hated.[17] Henry Stokes, master at The King's School, persuaded his mother to send him back to school. Motivated partly by a desire for revenge against a schoolyard bully, he became the top-ranked student,[18] distinguishing himself mainly by building sundials and models of windmills.[19]\n",
      "\n",
      "In June 1661, he was admitted to Trinity College, Cambridge, on the recommendation of his uncle Rev William Ayscough, who had studied there. He started as a subsizar—paying his way by performing valet's duties—until he was awarded a scholarship in 1664, guaranteeing him four more years until he could get his MA.[20] At that time the college's teachings were based on those of Aristotle, whom Newton supplemented with modern philosophers such as Descartes and astronomers such as Galileo and Thomas Street, through whom he learned of Kepler's work.[citation needed] He set down in his notebook a series of \"Quaestiones\" about mechanical philosophy as he found it. In 1665, he discovered the generalised binomial theorem and began to develop a mathematical theory that later became calculus. Soon after Newton had obtained his BA degree in August 1665, the university temporarily closed as a precaution against the Great Plague. Although he had been undistinguished as a Cambridge student,[21] Newton's private studies at his home in Woolsthorpe over the subsequent two years saw the development of his theories on calculus,[22] optics, and the law of gravitation.\n",
      "\n",
      "In April 1667, he returned to Cambridge and in October was elected as a fellow of Trinity.[23][24] Fellows were required to become ordained priests, although this was not enforced in the restoration years and an assertion of conformity to the Church of England was sufficient. However, by 1675 the issue could not be avoided and by then his unconventional views stood in the way.[25] Nevertheless, Newton managed to avoid it by means of special permission from Charles II.\n",
      "\n",
      "His studies had impressed the Lucasian professor Isaac Barrow, who was more anxious to develop his own religious and administrative potential (he became master of Trinity two years later); in 1669 Newton succeeded him, only one year after receiving his MA. He was elected a Fellow of the Royal Society (FRS) in 1672.[3] \n",
      "\n",
      "Newton's work has been said \"to distinctly advance every branch of mathematics then studied\".[27] His work on the subject, usually referred to as fluxions or calculus, seen in a manuscript of October 1666, is now published among Newton's mathematical papers.[28] His work De analysi per aequationes numero terminorum infinitas, sent by Isaac Barrow to John Collins in June 1669, was identified by Barrow in a letter sent to Collins that August as the work \"of an extraordinary genius and proficiency in these things\".[29]\n",
      "\n",
      "Newton later became involved in a dispute with Leibniz over priority in the development of calculus (the Leibniz–Newton calculus controversy). Most modern historians believe that Newton and Leibniz developed calculus independently, although with very different mathematical notations. Occasionally it has been suggested that Newton published almost nothing about it until 1693, and did not give a full account until 1704, while Leibniz began publishing a full account of his methods in 1684. Leibniz's notation and \"differential Method\", nowadays recognised as much more convenient notations, were adopted by continental European mathematicians, and after 1820 or so, also by British mathematicians.[citation needed]\n",
      "\n",
      "His work extensively uses calculus in geometric form based on limiting values of the ratios of vanishingly small quantities: in the Principia itself, Newton gave demonstration of this under the name of \"the method of first and last ratios\"[30] and explained why he put his expositions in this form,[31] remarking also that \"hereby the same thing is performed as by the method of indivisibles.\"[32]\n",
      "\n",
      "Because of this, the Principia has been called \"a book dense with the theory and application of the infinitesimal calculus\" in modern times[33] and in Newton's time \"nearly all of it is of this calculus.\"[34] His use of methods involving \"one or more orders of the infinitesimally small\" is present in his De motu corporum in gyrum of 1684[35] and in his papers on motion \"during the two decades preceding 1684\".[36] \n",
      "\n",
      "Newton had been reluctant to publish his calculus because he feared controversy and criticism.[37] He was close to the Swiss mathematician Nicolas Fatio de Duillier. In 1691, Duillier started to write a new version of Newton's Principia, and corresponded with Leibniz.[38] In 1693, the relationship between Duillier and Newton deteriorated and the book was never completed.[citation needed]\n",
      "\n",
      "Starting in 1699, other members[who?] of the Royal Society accused Leibniz of plagiarism.[39] The dispute then broke out in full force in 1711 when the Royal Society proclaimed in a study that it was Newton who was the true discoverer and labelled Leibniz a fraud; it was later found that Newton wrote the study's concluding remarks on Leibniz. Thus began the bitter controversy which marred the lives of both Newton and Leibniz until the latter's death in 1716.[40]\n",
      "\n",
      "Newton is generally credited with the generalised binomial theorem, valid for any exponent. He discovered Newton's identities, Newton's method, classified cubic plane curves (polynomials of degree three in two variables), made substantial contributions to the theory of finite differences, and was the first to use fractional indices and to employ coordinate geometry to derive solutions to Diophantine equations. He approximated partial sums of the harmonic series by logarithms (a precursor to Euler's summation formula) and was the first to use power series with confidence and to revert power series. Newton's work on infinite series was inspired by Simon Stevin's decimals.[41]\n",
      "\n",
      "When Newton received his MA and became a Fellow of the \"College of the Holy and Undivided Trinity\" in 1667, he made the commitment that \"I will either set Theology as the object of my studies and will take holy orders when the time prescribed by these statutes [7 years] arrives, or I will resign from the college.\"[42] Up until this point he had not thought much about religion and had twice signed his agreement to the thirty-nine articles, the basis of Church of England doctrine.\n",
      "\n",
      "He was appointed Lucasian Professor of Mathematics in 1669, on Barrow's recommendation. During that time, any Fellow of a college at Cambridge or Oxford was required to take holy orders and become an ordained Anglican priest. However, the terms of the Lucasian professorship required that the holder not be active in the church – presumably,[weasel words] so as to have more time for science. Newton argued that this should exempt him from the ordination requirement, and Charles II, whose permission was needed, accepted this argument. Thus a conflict between Newton's religious views and Anglican orthodoxy was averted.[43]\n",
      "\n",
      "\n",
      "\n"
     ]
    }
   ],
   "source": [
    "with open (\"Newton.txt\",\"r\") as f:\n",
    "    text = f.read()\n",
    "    print(text)"
   ]
  },
  {
   "cell_type": "code",
   "execution_count": 116,
   "metadata": {},
   "outputs": [
    {
     "data": {
      "text/plain": [
       "11577"
      ]
     },
     "execution_count": 116,
     "metadata": {},
     "output_type": "execute_result"
    }
   ],
   "source": [
    "len(text)"
   ]
  },
  {
   "cell_type": "markdown",
   "metadata": {},
   "source": [
    "### Creating Doc Object "
   ]
  },
  {
   "cell_type": "code",
   "execution_count": 117,
   "metadata": {},
   "outputs": [
    {
     "data": {
      "text/plain": [
       "Sir Isaac Newton PRS (25 December 1642 – 20 March 1726/27[a]) was an English mathematician, physicist, astronomer, alchemist, theologian, and author (described in his time as a \"natural philosopher\") widely recognised as one of the greatest mathematicians and physicists of all time and among the most influential scientists. He was a key figure in the philosophical revolution known as the Enlightenment. His book Philosophiæ Naturalis Principia Mathematica (Mathematical Principles of Natural Philosophy), first published in 1687, established classical mechanics. Newton also made seminal contributions to optics, and shares credit with German mathematician Gottfried Wilhelm Leibniz for developing infinitesimal calculus.\n",
       "\n",
       "In the Principia, Newton formulated the laws of motion and universal gravitation that formed the dominant scientific viewpoint until it was superseded by the theory of relativity. Newton used his mathematical description of gravity to derive Kepler's laws of planetary motion, account for tides, the trajectories of comets, the precession of the equinoxes and other phenomena, eradicating doubt about the Solar System's heliocentricity. He demonstrated that the motion of objects on Earth and celestial bodies could be accounted for by the same principles. Newton's inference that the Earth is an oblate spheroid was later confirmed by the geodetic measurements of Maupertuis, La Condamine, and others, convincing most European scientists of the superiority of Newtonian mechanics over earlier systems.\n",
       "\n",
       "Newton built the first practical reflecting telescope and developed a sophisticated theory of colour based on the observation that a prism separates white light into the colours of the visible spectrum. His work on light was collected in his highly influential book Opticks, published in 1704. He also formulated an empirical law of cooling, made the first theoretical calculation of the speed of sound, and introduced the notion of a Newtonian fluid. In addition to his work on calculus, as a mathematician Newton contributed to the study of power series, generalised the binomial theorem to non-integer exponents, developed a method for approximating the roots of a function, and classified most of the cubic plane curves.\n",
       "\n",
       "Newton was a fellow of Trinity College and the second Lucasian Professor of Mathematics at the University of Cambridge. He was a devout but unorthodox Christian who privately rejected the doctrine of the Trinity. Unusually for a member of the Cambridge faculty of the day, he refused to take holy orders in the Church of England. Beyond his work on the mathematical sciences, Newton dedicated much of his time to the study of alchemy and biblical chronology, but most of his work in those areas remained unpublished until long after his death. Politically and personally tied to the Whig party, Newton served two brief terms as Member of Parliament for the University of Cambridge, in 1689–1690 and 1701–1702. He was knighted by Queen Anne in 1705 and spent the last three decades of his life in London, serving as Warden (1696–1699) and Master (1699–1727) of the Royal Mint, as well as president of the Royal Society (1703–1727).\n",
       "Contents\n",
       "\n",
       "Isaac Newton was born (according to the Julian calendar in use in England at the time) on Christmas Day, 25 December 1642 (NS 4 January 1643[a]), \"an hour or two after midnight\",[12] at Woolsthorpe Manor in Woolsthorpe-by-Colsterworth, a hamlet in the county of Lincolnshire. His father, also named Isaac Newton, had died three months before. Born prematurely, Newton was a small child; his mother Hannah Ayscough reportedly said that he could have fit inside a quart mug.[13] When Newton was three, his mother remarried and went to live with her new husband, the Reverend Barnabas Smith, leaving her son in the care of his maternal grandmother, Margery Ayscough (née Blythe). Newton disliked his stepfather and maintained some enmity towards his mother for marrying him, as revealed by this entry in a list of sins committed up to the age of 19: \"Threatening my father and mother Smith to burn them and the house over them.\"[14] Newton's mother had three children (Mary, Benjamin and Hannah) from her second marriage.[15]\n",
       "\n",
       "From the age of about twelve until he was seventeen, Newton was educated at The King's School, Grantham, which taught Latin and Ancient Greek and probably imparted a significant foundation of mathematics.[16] He was removed from school and returned to Woolsthorpe-by-Colsterworth by October 1659. His mother, widowed for the second time, attempted to make him a farmer, an occupation he hated.[17] Henry Stokes, master at The King's School, persuaded his mother to send him back to school. Motivated partly by a desire for revenge against a schoolyard bully, he became the top-ranked student,[18] distinguishing himself mainly by building sundials and models of windmills.[19]\n",
       "\n",
       "In June 1661, he was admitted to Trinity College, Cambridge, on the recommendation of his uncle Rev William Ayscough, who had studied there. He started as a subsizar—paying his way by performing valet's duties—until he was awarded a scholarship in 1664, guaranteeing him four more years until he could get his MA.[20] At that time the college's teachings were based on those of Aristotle, whom Newton supplemented with modern philosophers such as Descartes and astronomers such as Galileo and Thomas Street, through whom he learned of Kepler's work.[citation needed] He set down in his notebook a series of \"Quaestiones\" about mechanical philosophy as he found it. In 1665, he discovered the generalised binomial theorem and began to develop a mathematical theory that later became calculus. Soon after Newton had obtained his BA degree in August 1665, the university temporarily closed as a precaution against the Great Plague. Although he had been undistinguished as a Cambridge student,[21] Newton's private studies at his home in Woolsthorpe over the subsequent two years saw the development of his theories on calculus,[22] optics, and the law of gravitation.\n",
       "\n",
       "In April 1667, he returned to Cambridge and in October was elected as a fellow of Trinity.[23][24] Fellows were required to become ordained priests, although this was not enforced in the restoration years and an assertion of conformity to the Church of England was sufficient. However, by 1675 the issue could not be avoided and by then his unconventional views stood in the way.[25] Nevertheless, Newton managed to avoid it by means of special permission from Charles II.\n",
       "\n",
       "His studies had impressed the Lucasian professor Isaac Barrow, who was more anxious to develop his own religious and administrative potential (he became master of Trinity two years later); in 1669 Newton succeeded him, only one year after receiving his MA. He was elected a Fellow of the Royal Society (FRS) in 1672.[3] \n",
       "\n",
       "Newton's work has been said \"to distinctly advance every branch of mathematics then studied\".[27] His work on the subject, usually referred to as fluxions or calculus, seen in a manuscript of October 1666, is now published among Newton's mathematical papers.[28] His work De analysi per aequationes numero terminorum infinitas, sent by Isaac Barrow to John Collins in June 1669, was identified by Barrow in a letter sent to Collins that August as the work \"of an extraordinary genius and proficiency in these things\".[29]\n",
       "\n",
       "Newton later became involved in a dispute with Leibniz over priority in the development of calculus (the Leibniz–Newton calculus controversy). Most modern historians believe that Newton and Leibniz developed calculus independently, although with very different mathematical notations. Occasionally it has been suggested that Newton published almost nothing about it until 1693, and did not give a full account until 1704, while Leibniz began publishing a full account of his methods in 1684. Leibniz's notation and \"differential Method\", nowadays recognised as much more convenient notations, were adopted by continental European mathematicians, and after 1820 or so, also by British mathematicians.[citation needed]\n",
       "\n",
       "His work extensively uses calculus in geometric form based on limiting values of the ratios of vanishingly small quantities: in the Principia itself, Newton gave demonstration of this under the name of \"the method of first and last ratios\"[30] and explained why he put his expositions in this form,[31] remarking also that \"hereby the same thing is performed as by the method of indivisibles.\"[32]\n",
       "\n",
       "Because of this, the Principia has been called \"a book dense with the theory and application of the infinitesimal calculus\" in modern times[33] and in Newton's time \"nearly all of it is of this calculus.\"[34] His use of methods involving \"one or more orders of the infinitesimally small\" is present in his De motu corporum in gyrum of 1684[35] and in his papers on motion \"during the two decades preceding 1684\".[36] \n",
       "\n",
       "Newton had been reluctant to publish his calculus because he feared controversy and criticism.[37] He was close to the Swiss mathematician Nicolas Fatio de Duillier. In 1691, Duillier started to write a new version of Newton's Principia, and corresponded with Leibniz.[38] In 1693, the relationship between Duillier and Newton deteriorated and the book was never completed.[citation needed]\n",
       "\n",
       "Starting in 1699, other members[who?] of the Royal Society accused Leibniz of plagiarism.[39] The dispute then broke out in full force in 1711 when the Royal Society proclaimed in a study that it was Newton who was the true discoverer and labelled Leibniz a fraud; it was later found that Newton wrote the study's concluding remarks on Leibniz. Thus began the bitter controversy which marred the lives of both Newton and Leibniz until the latter's death in 1716.[40]\n",
       "\n",
       "Newton is generally credited with the generalised binomial theorem, valid for any exponent. He discovered Newton's identities, Newton's method, classified cubic plane curves (polynomials of degree three in two variables), made substantial contributions to the theory of finite differences, and was the first to use fractional indices and to employ coordinate geometry to derive solutions to Diophantine equations. He approximated partial sums of the harmonic series by logarithms (a precursor to Euler's summation formula) and was the first to use power series with confidence and to revert power series. Newton's work on infinite series was inspired by Simon Stevin's decimals.[41]\n",
       "\n",
       "When Newton received his MA and became a Fellow of the \"College of the Holy and Undivided Trinity\" in 1667, he made the commitment that \"I will either set Theology as the object of my studies and will take holy orders when the time prescribed by these statutes [7 years] arrives, or I will resign from the college.\"[42] Up until this point he had not thought much about religion and had twice signed his agreement to the thirty-nine articles, the basis of Church of England doctrine.\n",
       "\n",
       "He was appointed Lucasian Professor of Mathematics in 1669, on Barrow's recommendation. During that time, any Fellow of a college at Cambridge or Oxford was required to take holy orders and become an ordained Anglican priest. However, the terms of the Lucasian professorship required that the holder not be active in the church – presumably,[weasel words] so as to have more time for science. Newton argued that this should exempt him from the ordination requirement, and Charles II, whose permission was needed, accepted this argument. Thus a conflict between Newton's religious views and Anglican orthodoxy was averted.[43]\n",
       "\n"
      ]
     },
     "execution_count": 117,
     "metadata": {},
     "output_type": "execute_result"
    }
   ],
   "source": [
    "doc= nlp(text)\n",
    "doc"
   ]
  },
  {
   "cell_type": "code",
   "execution_count": 118,
   "metadata": {},
   "outputs": [
    {
     "data": {
      "text/plain": [
       "11577"
      ]
     },
     "execution_count": 118,
     "metadata": {},
     "output_type": "execute_result"
    }
   ],
   "source": [
    "len(text)"
   ]
  },
  {
   "cell_type": "code",
   "execution_count": 119,
   "metadata": {},
   "outputs": [
    {
     "data": {
      "text/plain": [
       "2122"
      ]
     },
     "execution_count": 119,
     "metadata": {},
     "output_type": "execute_result"
    }
   ],
   "source": [
    "len(doc)"
   ]
  },
  {
   "cell_type": "code",
   "execution_count": 120,
   "metadata": {},
   "outputs": [
    {
     "name": "stdout",
     "output_type": "stream",
     "text": [
      "S\n",
      "i\n",
      "r\n",
      " \n",
      "I\n",
      "s\n",
      "a\n",
      "a\n",
      "c\n",
      " \n"
     ]
    }
   ],
   "source": [
    "for token in text[0:10]:\n",
    "    print(token)"
   ]
  },
  {
   "cell_type": "code",
   "execution_count": 121,
   "metadata": {},
   "outputs": [
    {
     "name": "stdout",
     "output_type": "stream",
     "text": [
      "Sir\n",
      "Isaac\n",
      "Newton\n",
      "PRS\n",
      "(\n",
      "25\n",
      "December\n",
      "1642\n",
      "–\n",
      "20\n"
     ]
    }
   ],
   "source": [
    "for token in doc[0:10]:\n",
    "    print(token)"
   ]
  },
  {
   "cell_type": "markdown",
   "metadata": {},
   "source": [
    "### Manipulation with Doc Object "
   ]
  },
  {
   "cell_type": "code",
   "execution_count": 122,
   "metadata": {},
   "outputs": [
    {
     "name": "stdout",
     "output_type": "stream",
     "text": [
      "Sir Isaac Newton PRS (25 December 1642 – 20 March 1726/27[a]) was an English mathematician, physicist, astronomer, alchemist, theologian, and author (described in his time as a \"natural philosopher\") widely recognised as one of the greatest mathematicians and physicists of all time and among the most influential scientists.\n",
      "He was a key figure in the philosophical revolution known as the Enlightenment.\n",
      "His book Philosophiæ Naturalis Principia Mathematica (Mathematical Principles of Natural Philosophy), first published in 1687, established classical mechanics.\n",
      "Newton also made seminal contributions to optics, and shares credit with German mathematician Gottfried Wilhelm Leibniz for developing infinitesimal calculus.\n",
      "\n",
      "\n",
      "In the Principia, Newton formulated the laws of motion and universal gravitation that formed the dominant scientific viewpoint until it was superseded by the theory of relativity.\n",
      "Newton used his mathematical description of gravity to derive Kepler's laws of planetary motion, account for tides, the trajectories of comets, the precession of the equinoxes and other phenomena, eradicating doubt about the Solar System's heliocentricity.\n",
      "He demonstrated that the motion of objects on Earth and celestial bodies could be accounted for by the same principles.\n",
      "Newton's inference that the Earth is an oblate spheroid was later confirmed by the geodetic measurements of Maupertuis, La Condamine, and others, convincing most European scientists of the superiority of Newtonian mechanics over earlier systems.\n",
      "\n",
      "\n",
      "Newton built the first practical reflecting telescope and developed a sophisticated theory of colour based on the observation that a prism separates white light into the colours of the visible spectrum.\n",
      "His work on light was collected in his highly influential book Opticks, published in 1704.\n",
      "He also formulated an empirical law of cooling, made the first theoretical calculation of the speed of sound, and introduced the notion of a Newtonian fluid.\n",
      "In addition to his work on calculus, as a mathematician Newton contributed to the study of power series, generalised the binomial theorem to non-integer exponents, developed a method for approximating the roots of a function, and classified most of the cubic plane curves.\n",
      "\n",
      "\n",
      "Newton was a fellow of Trinity College and the second Lucasian Professor of Mathematics at the University of Cambridge.\n",
      "He was a devout but unorthodox Christian who privately rejected the doctrine of the Trinity.\n",
      "Unusually for a member of the Cambridge faculty of the day, he refused to take holy orders in the Church of England.\n",
      "Beyond his work on the mathematical sciences, Newton dedicated much of his time to the study of alchemy and biblical chronology, but most of his work in those areas remained unpublished until long after his death.\n",
      "Politically and personally tied to the Whig party, Newton served two brief terms as Member of Parliament for the University of Cambridge, in 1689–1690 and 1701–1702.\n",
      "He was knighted by Queen Anne in 1705 and spent the last three decades of his life in London, serving as Warden (1696–1699) and Master (1699–1727) of the Royal Mint, as well as president of the Royal Society (1703–1727).\n",
      "\n",
      "Contents\n",
      "\n",
      "Isaac Newton was born (according to the Julian calendar in use in England at the time) on Christmas Day, 25 December 1642 (NS 4 January 1643[a]), \"an hour or two after midnight\",[12] at Woolsthorpe Manor in Woolsthorpe-by-Colsterworth, a hamlet in the county of Lincolnshire.\n",
      "His father, also named Isaac Newton, had died three months before.\n",
      "Born prematurely, Newton was a small child; his mother Hannah Ayscough reportedly said that he could have fit inside a quart mug.[13] When Newton was three, his mother remarried and went to live with her new husband, the Reverend Barnabas Smith, leaving her son in the care of his maternal grandmother, Margery Ayscough (née Blythe).\n",
      "Newton disliked his stepfather and maintained some enmity towards his mother for marrying him, as revealed by this entry in a list of sins committed up to the age of 19: \"Threatening my father and mother Smith to burn them and the house over them.\n",
      "\"[14] Newton's mother had three children (Mary, Benjamin and Hannah) from her second marriage.[15]\n",
      "\n",
      "From the age of about twelve until he was seventeen, Newton was educated at The King's School, Grantham, which taught Latin and Ancient Greek and probably imparted a significant foundation of mathematics.[16]\n",
      "He was removed from school and returned to Woolsthorpe-by-Colsterworth by October 1659.\n",
      "His mother, widowed for the second time, attempted to make him a farmer, an occupation he hated.[17] Henry Stokes, master at The King's School, persuaded his mother to send him back to school.\n",
      "Motivated partly by a desire for revenge against a schoolyard bully, he became the top-ranked student,[18] distinguishing himself mainly by building sundials and models of windmills.[19]\n",
      "\n",
      "In June 1661, he was admitted to Trinity College, Cambridge, on the recommendation of his uncle Rev William Ayscough, who had studied there.\n",
      "He started as a subsizar—paying his way by performing valet's duties—until he was awarded a scholarship in 1664, guaranteeing him four more years until he could get his MA.[20] At that time the college's teachings were based on those of Aristotle, whom Newton supplemented with modern philosophers such as Descartes and astronomers such as Galileo and Thomas Street, through whom he learned of Kepler's work.[citation needed]\n",
      "He set down in his notebook a series of \"Quaestiones\" about mechanical philosophy as he found it.\n",
      "In 1665, he discovered the generalised binomial theorem and began to develop a mathematical theory that later became calculus.\n",
      "Soon after Newton had obtained his BA degree in August 1665, the university temporarily closed as a precaution against the Great Plague.\n",
      "Although he had been undistinguished as a Cambridge student,[21] Newton's private studies at his home in Woolsthorpe over the subsequent two years saw the development of his theories on calculus,[22] optics, and the law of gravitation.\n",
      "\n",
      "\n",
      "In April 1667, he returned to Cambridge and in October was elected as a fellow of Trinity.[23][24] Fellows were required to become ordained priests, although this was not enforced in the restoration years and an assertion of conformity to the Church of England was sufficient.\n",
      "However, by 1675 the issue could not be avoided and by then his unconventional views stood in the way.[25]\n",
      "Nevertheless, Newton managed to avoid it by means of special permission from Charles II.\n",
      "\n",
      "\n",
      "His studies had impressed the Lucasian professor Isaac Barrow, who was more anxious to develop his own religious and administrative potential (he became master of Trinity two years later); in 1669 Newton succeeded him, only one year after receiving his MA.\n",
      "He was elected a Fellow of the Royal Society (FRS) in 1672.[3] \n",
      "\n",
      "Newton's work has been said \"to distinctly advance every branch of mathematics then studied\".[27] His work on the subject, usually referred to as fluxions or calculus, seen in a manuscript of October 1666, is now published among Newton's mathematical papers.[28]\n",
      "His work De analysi per aequationes numero terminorum infinitas, sent by Isaac Barrow to John Collins in June 1669, was identified by Barrow in a letter sent to Collins that August as the work \"of an extraordinary genius and proficiency in these things\".[29]\n",
      "\n",
      "Newton later became involved in a dispute with Leibniz over priority in the development of calculus (the Leibniz–Newton calculus controversy).\n",
      "Most modern historians believe that Newton and Leibniz developed calculus independently, although with very different mathematical notations.\n",
      "Occasionally it has been suggested that Newton published almost nothing about it until 1693, and did not give a full account until 1704, while Leibniz began publishing a full account of his methods in 1684.\n",
      "Leibniz's notation and \"differential Method\", nowadays recognised as much more convenient notations, were adopted by continental European mathematicians, and after 1820 or so, also by British mathematicians.[citation needed]\n",
      "\n",
      "His work extensively uses calculus in geometric form based on limiting values of the ratios of vanishingly small quantities: in the Principia itself, Newton gave demonstration of this under the name of \"the method of first and last ratios\"[30] and explained why he put his expositions in this form,[31] remarking also that \"hereby the same thing is performed as by the method of indivisibles.\n",
      "\"[32]\n",
      "\n",
      "Because of this, the Principia has been called \"a book dense with the theory and application of the infinitesimal calculus\" in modern times[33] and in Newton's time \"nearly all of it is of this calculus.\n",
      "\"[34]\n",
      "His use of methods involving \"one or more orders of the infinitesimally small\" is present in his De motu corporum in gyrum of 1684[35] and in his papers on motion \"during the two decades preceding 1684\".[36] \n",
      "\n",
      "Newton had been reluctant to publish his calculus because he feared controversy and criticism.[37]\n",
      "He was close to the Swiss mathematician Nicolas Fatio de Duillier.\n",
      "In 1691, Duillier started to write a new version of Newton's Principia, and corresponded with Leibniz.[38]\n",
      "In 1693, the relationship between Duillier and Newton deteriorated and the book was never completed.[citation needed]\n",
      "\n",
      "Starting in 1699, other members[who?] of the Royal Society accused Leibniz of plagiarism.[39]\n",
      "The dispute then broke out in full force in 1711 when the Royal Society proclaimed in a study that it was Newton who was the true discoverer and labelled Leibniz a fraud; it was later found that Newton wrote the study's concluding remarks on Leibniz.\n",
      "Thus began the bitter controversy which marred the lives of both Newton and Leibniz until the latter's death in 1716.[40]\n",
      "\n",
      "Newton is generally credited with the generalised binomial theorem, valid for any exponent.\n",
      "He discovered Newton's identities, Newton's method, classified cubic plane curves (polynomials of degree three in two variables), made substantial contributions to the theory of finite differences, and was the first to use fractional indices and to employ coordinate geometry to derive solutions to Diophantine equations.\n",
      "He approximated partial sums of the harmonic series by logarithms (a precursor to Euler's summation formula) and was the first to use power series with confidence and to revert power series.\n",
      "Newton's work on infinite series was inspired by Simon Stevin's decimals.[41]\n",
      "\n",
      "When Newton received his MA and became a Fellow of the \"College of the Holy and Undivided Trinity\" in 1667, he made the commitment that \"I will either set Theology as the object of my studies and will take holy orders when the time prescribed by these statutes [7 years] arrives, or I will resign from the college.\n",
      "\"[42] Up until this point he had not thought much about religion and had twice signed his agreement to the thirty-nine articles, the basis of Church of England doctrine.\n",
      "\n",
      "\n",
      "He was appointed Lucasian Professor of Mathematics in 1669, on Barrow's recommendation.\n",
      "During that time, any Fellow of a college at Cambridge or Oxford was required to take holy orders and become an ordained Anglican priest.\n",
      "However, the terms of the Lucasian professorship required that the holder not be active in the church – presumably,[weasel words] so as to have more time for science.\n",
      "Newton argued that this should exempt him from the ordination requirement, and Charles II, whose permission was needed, accepted this argument.\n",
      "Thus a conflict between Newton's religious views and Anglican orthodoxy was averted.[43]\n",
      "\n",
      "\n",
      "\n"
     ]
    }
   ],
   "source": [
    "for sent in doc.sents:\n",
    "    print(sent)"
   ]
  },
  {
   "cell_type": "code",
   "execution_count": 123,
   "metadata": {},
   "outputs": [
    {
     "name": "stdout",
     "output_type": "stream",
     "text": [
      "Sir Isaac Newton PRS (25 December 1642 – 20 March 1726/27[a]) was an English mathematician, physicist, astronomer, alchemist, theologian, and author (described in his time as a \"natural philosopher\") widely recognised as one of the greatest mathematicians and physicists of all time and among the most influential scientists.\n"
     ]
    }
   ],
   "source": [
    "sentence1 = list(doc.sents)[0]\n",
    "print(sentence1)"
   ]
  },
  {
   "cell_type": "code",
   "execution_count": 124,
   "metadata": {},
   "outputs": [
    {
     "name": "stdout",
     "output_type": "stream",
     "text": [
      "Newton\n"
     ]
    }
   ],
   "source": [
    "token2= sentence1[2]\n",
    "print(token2)"
   ]
  },
  {
   "cell_type": "code",
   "execution_count": 125,
   "metadata": {},
   "outputs": [
    {
     "data": {
      "text/plain": [
       "'Newton'"
      ]
     },
     "execution_count": 125,
     "metadata": {},
     "output_type": "execute_result"
    }
   ],
   "source": [
    "token2.text"
   ]
  },
  {
   "cell_type": "code",
   "execution_count": 126,
   "metadata": {},
   "outputs": [
    {
     "data": {
      "text/plain": [
       "Sir"
      ]
     },
     "execution_count": 126,
     "metadata": {},
     "output_type": "execute_result"
    }
   ],
   "source": [
    "token2.left_edge"
   ]
  },
  {
   "cell_type": "code",
   "execution_count": 127,
   "metadata": {},
   "outputs": [
    {
     "data": {
      "text/plain": [
       "Newton"
      ]
     },
     "execution_count": 127,
     "metadata": {},
     "output_type": "execute_result"
    }
   ],
   "source": [
    "token2.right_edge"
   ]
  },
  {
   "cell_type": "code",
   "execution_count": 128,
   "metadata": {},
   "outputs": [
    {
     "data": {
      "text/plain": [
       "PRS"
      ]
     },
     "execution_count": 128,
     "metadata": {},
     "output_type": "execute_result"
    }
   ],
   "source": [
    "token3=sentence1[3]\n",
    "token3"
   ]
  },
  {
   "cell_type": "code",
   "execution_count": 129,
   "metadata": {},
   "outputs": [
    {
     "data": {
      "text/plain": [
       "380"
      ]
     },
     "execution_count": 129,
     "metadata": {},
     "output_type": "execute_result"
    }
   ],
   "source": [
    "token3.ent_type"
   ]
  },
  {
   "cell_type": "code",
   "execution_count": 130,
   "metadata": {},
   "outputs": [
    {
     "data": {
      "text/plain": [
       "'DATE'"
      ]
     },
     "execution_count": 130,
     "metadata": {},
     "output_type": "execute_result"
    }
   ],
   "source": [
    "token.ent_type_"
   ]
  },
  {
   "cell_type": "code",
   "execution_count": 131,
   "metadata": {},
   "outputs": [
    {
     "data": {
      "text/plain": [
       "'I'"
      ]
     },
     "execution_count": 131,
     "metadata": {},
     "output_type": "execute_result"
    }
   ],
   "source": [
    "token2.ent_iob_"
   ]
  },
  {
   "cell_type": "code",
   "execution_count": 132,
   "metadata": {},
   "outputs": [
    {
     "data": {
      "text/plain": [
       "'Newton'"
      ]
     },
     "execution_count": 132,
     "metadata": {},
     "output_type": "execute_result"
    }
   ],
   "source": [
    "token2.lemma_"
   ]
  },
  {
   "cell_type": "code",
   "execution_count": 133,
   "metadata": {},
   "outputs": [
    {
     "data": {
      "text/plain": [
       "'physicist'"
      ]
     },
     "execution_count": 133,
     "metadata": {},
     "output_type": "execute_result"
    }
   ],
   "source": [
    "sentence1[50].lemma_"
   ]
  },
  {
   "cell_type": "code",
   "execution_count": 134,
   "metadata": {},
   "outputs": [
    {
     "name": "stdout",
     "output_type": "stream",
     "text": [
      "physicists\n"
     ]
    }
   ],
   "source": [
    "print(sentence1[50])"
   ]
  },
  {
   "cell_type": "code",
   "execution_count": 135,
   "metadata": {},
   "outputs": [
    {
     "data": {
      "text/plain": [
       "Number=Sing"
      ]
     },
     "execution_count": 135,
     "metadata": {},
     "output_type": "execute_result"
    }
   ],
   "source": [
    "token3.morph"
   ]
  },
  {
   "cell_type": "code",
   "execution_count": 136,
   "metadata": {},
   "outputs": [
    {
     "data": {
      "text/plain": [
       "Number=Plur"
      ]
     },
     "execution_count": 136,
     "metadata": {},
     "output_type": "execute_result"
    }
   ],
   "source": [
    "sentence1[50].morph"
   ]
  },
  {
   "cell_type": "code",
   "execution_count": 137,
   "metadata": {},
   "outputs": [
    {
     "data": {
      "text/plain": [
       "'PROPN'"
      ]
     },
     "execution_count": 137,
     "metadata": {},
     "output_type": "execute_result"
    }
   ],
   "source": [
    "token3.pos_"
   ]
  },
  {
   "cell_type": "code",
   "execution_count": 138,
   "metadata": {},
   "outputs": [],
   "source": [
    "token.dep_"
   ]
  },
  {
   "cell_type": "code",
   "execution_count": null,
   "metadata": {},
   "outputs": [],
   "source": [
    "token3.lang_"
   ]
  },
  {
   "cell_type": "markdown",
   "metadata": {},
   "source": [
    "# Working with Parts of Speach ....."
   ]
  },
  {
   "cell_type": "code",
   "execution_count": null,
   "metadata": {},
   "outputs": [],
   "source": []
  }
 ],
 "metadata": {
  "interpreter": {
   "hash": "0a02ee646c8ad2dd595e5341b6f477eb50ac789689ed638f7c72990585c4481e"
  },
  "kernelspec": {
   "display_name": "Python 3.8.9 64-bit",
   "language": "python",
   "name": "python3"
  },
  "language_info": {
   "codemirror_mode": {
    "name": "ipython",
    "version": 3
   },
   "file_extension": ".py",
   "mimetype": "text/x-python",
   "name": "python",
   "nbconvert_exporter": "python",
   "pygments_lexer": "ipython3",
   "version": "3.8.9"
  },
  "orig_nbformat": 4
 },
 "nbformat": 4,
 "nbformat_minor": 2
}
