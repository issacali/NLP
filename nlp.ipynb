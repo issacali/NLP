{
 "cells": [
  {
   "cell_type": "markdown",
   "metadata": {},
   "source": [
    "# Natural Languag3e processing "
   ]
  },
  {
   "cell_type": "code",
   "execution_count": 35,
   "metadata": {},
   "outputs": [],
   "source": [
    "import spacy\n",
    "import pandas as pd"
   ]
  },
  {
   "cell_type": "code",
   "execution_count": 38,
   "metadata": {},
   "outputs": [],
   "source": [
    "nlp = spacy.load(\"en_core_web_sm\")"
   ]
  },
  {
   "cell_type": "code",
   "execution_count": 39,
   "metadata": {},
   "outputs": [
    {
     "name": "stdout",
     "output_type": "stream",
     "text": [
      "# PLEASE DO NOT REMOVE OR CHANGE THIS COPYRIGHT BLOCK\n",
      "#====================================================================\n",
      "#\n",
      "#  Quranic Arabic Corpus (morphology, version 0.4)\n",
      "#  Copyright (C) 2011 Kais Dukes\n",
      "#  License: GNU General Public License\n",
      "#\n",
      "#  The Quranic Arabic Corpus includes syntactic and morphological\n",
      "#  annotation of the Quran, and builds on the verified Arabic text\n",
      "#  distributed by the Tanzil project.\n",
      "#\n",
      "#  TERMS OF USE:\n",
      "#\n",
      "#  - Permission is granted to copy and distribute verbatim copies\n",
      "#    of this file, but CHANGING IT IS NOT ALLOWED.\n",
      "#\n",
      "#  - This annotation can be used in any website or application,\n",
      "#    provided its source (the Quranic Arabic Corpus) is clearly\n",
      "#    indicated, and a link is made to http://corpus.quran.com to enable\n",
      "#    users to keep track of changes.\n",
      "#\n",
      "#  - This copyright notice shall be included in all verbatim copies\n",
      "#    of the text, and shall be reproduced appropriately in all works\n",
      "#    derived from or containing substantial portion of this file.\n",
      "#\n",
      "#  Please check updates at: http://corpus.quran.com/download\n",
      "\n",
      "# PLEASE DO NOT REMOVE OR CHANGE THIS COPYRIGHT BLOCK\n",
      "#====================================================================\n",
      "#\n",
      "#  Tanzil Quran Text (Uthmani, version 1.0.2)\n",
      "#  Copyright (C) 2008-2009 Tanzil.info\n",
      "#  License: Creative Commons BY-ND 3.0 Unported\n",
      "#\n",
      "#  This copy of quran text is carefully produced, highly\n",
      "#  verified and continuously monitored by a group of specialists\n",
      "#  at Tanzil project.\n",
      "#\n",
      "#  TERMS OF USE:\n",
      "#\n",
      "#  - Permission is granted to copy and distribute verbatim copies\n",
      "#    of this text, but CHANGING IT IS NOT ALLOWED.\n",
      "#\n",
      "#  - This quran text can be used in any website or application,\n",
      "#    provided its source (Tanzil.info) is clearly indicated, and\n",
      "#    a link is made to http://tanzil.info to enable users to keep\n",
      "#    track of changes.\n",
      "#\n",
      "#  - This copyright notice shall be included in all verbatim copies\n",
      "#    of the text, and shall be reproduced appropriately in all files\n",
      "#    derived from or containing substantial portion of this text.\n",
      "#\n",
      "#  Please check updates at: http://tanzil.info/updates/\n",
      "#\n",
      "#====================================================================\n",
      "\n",
      "LOCATION\tFORM\tTAG\tFEATURES\n",
      "(1:1:1:1)\tbi\tP\tPREFIX|bi+\n",
      "(1:1:1:2)\tsomi\tN\tSTEM|POS:N|LEM:{som|ROOT:smw|M|GEN\n",
      "(1:1:2:1)\t{ll~ahi\tPN\tSTEM|POS:PN|LEM:{ll~ah|ROOT:Alh|GEN\n",
      "(1:1:3:1)\t{l\tDET\tPREFIX|Al+\n",
      "(1:1:3:2)\tr~aHoma`ni\tADJ\tSTEM|POS:ADJ|LEM:r~aHoma`n|ROOT:rHm|MS|GEN\n",
      "(1:1:4:1)\t{l\tDET\tPREFIX|Al+\n",
      "(1:1:4:2)\tr~aHiymi\tADJ\tSTEM|POS:ADJ|LEM:r~aHiym|ROOT:rHm|MS|GEN\n",
      "(1:2:1:1)\t{lo\tDET\tPREFIX|Al+\n",
      "(1:2:1:2)\tHamodu\tN\tSTEM|POS:N|LEM:Hamod|ROOT:Hmd|M|NOM\n",
      "(1:2:2:1)\tli\tP\tPREFIX|l:P+\n",
      "(1:2:2:2)\tl~ahi\tPN\tSTEM|POS:PN|LEM:{ll~ah|ROOT:Alh|GEN\n",
      "(1:2:3:1)\trab~i\tN\tSTEM|POS:N|LEM:rab~|ROOT:rbb|M|GEN\n",
      "(1:2:4:1)\t{lo\tDET\tPREFIX|Al+\n",
      "(1:2:4:2)\tEa`lamiyna\tN\tSTEM|POS:N|LEM:Ea`lamiyn|ROOT:Elm|MP|GEN\n",
      "(1:3:1:1)\t{l\tDET\tPREFIX|Al+\n",
      "(1:3:1:2)\tr~aHoma`ni\tADJ\tSTEM|POS:ADJ|LEM:r~aHoma`n|ROOT:rHm|MS|GEN\n",
      "(1:3:2:1)\t{l\tDET\tPREFIX|Al+\n",
      "(1:3:2:2)\tr~aHiymi\tADJ\tSTEM|POS:ADJ|LEM:r~aHiym|ROOT:rHm|MS|GEN\n",
      "(1:4:1:1)\tma`liki\tN\tSTEM|POS:N|ACT|PCPL|LEM:ma`lik|ROOT:mlk|M|GEN\n",
      "(1:4:2:1)\tyawomi\tN\tSTEM|POS:N|LEM:yawom|ROOT:ywm|M|GEN\n",
      "(1:4:3:1)\t{l\tDET\tPREFIX|Al+\n",
      "(1:4:3:2)\td~iyni\tN\tSTEM|POS:N|LEM:diyn|ROOT:dyn|M|GEN\n",
      "(1:5:1:1)\t<iy~aAka\tPRON\tSTEM|POS:PRON|LEM:<iy~aA|2MS\n",
      "(1:5:2:1)\tnaEobudu\tV\tSTEM|POS:V|IMPF|LEM:Eabada|ROOT:Ebd|1P\n",
      "(1:5:3:1)\twa\tCONJ\tPREFIX|w:CONJ+\n",
      "(1:5:3:2)\t<iy~aAka\tPRON\tSTEM|POS:PRON|LEM:<iy~aA|2MS\n",
      "(1:5:4:1)\tnasotaEiynu\tV\tSTEM|POS:V|IMPF|(X)|LEM:{sotaEiynu|ROOT:Ewn|1P\n",
      "(1:6:1:1)\t{hodi\tV\tSTEM|POS:V|IMPV|LEM:hadaY|ROOT:hdy|2MS\n",
      "(1:6:1:2)\tnaA\tPRON\tSUFFIX|PRON:1P\n",
      "(1:6:2:1)\t{l\tDET\tPREFIX|Al+\n",
      "(1:6:2:2)\tS~ira`Ta\tN\tSTEM|POS:N|LEM:Sira`T|ROOT:SrT|M|ACC\n",
      "(1:6:3:1)\t{lo\tDET\tPREFIX|Al+\n",
      "(1:6:3:2)\tmusotaqiyma\tADJ\tSTEM|POS:ADJ|ACT|PCPL|(X)|LEM:m~usotaqiym|ROOT:qwm|M|ACC\n",
      "(1:7:1:1)\tSira`Ta\tN\tSTEM|POS:N|LEM:Sira`T|ROOT:SrT|M|ACC\n",
      "(1:7:2:1)\t{l~a*iyna\tREL\tSTEM|POS:REL|LEM:{l~a*iY|MP\n",
      "(1:7:3:1)\t>anoEamo\tV\tSTEM|POS:V|PERF|(IV)|LEM:>anoEama|ROOT:nEm|2MS\n",
      "(1:7:3:2)\tta\tPRON\tSUFFIX|PRON:2MS\n",
      "(1:7:4:1)\tEalayo\tP\tSTEM|POS:P|LEM:EalaY`\n",
      "(1:7:4:2)\thimo\tPRON\tSUFFIX|PRON:3MP\n",
      "(1:7:5:1)\tgayori\tN\tSTEM|POS:N|LEM:gayor|ROOT:gyr|M|GEN\n",
      "(1:7:6:1)\t{lo\tDET\tPREFIX|Al+\n",
      "(1:7:6:2)\tmagoDuwbi\tN\tSTEM|POS:N|PASS|PCPL|LEM:magoDuwb|ROOT:gDb|M|GEN\n",
      "(1:7:7:1)\tEalayo\tP\tSTEM|POS:P|LEM:EalaY`\n",
      "(1:7:7:2)\thimo\tPRON\tSUFFIX|PRON:3MP\n",
      "(1:7:8:1)\twa\tCONJ\tPREFIX|w:CONJ+\n",
      "(1:7:8:2)\tlaA\tNEG\tSTEM|POS:NEG|LEM:laA\n",
      "(1:7:9:1)\t{l\tDET\tPREFIX|Al+\n",
      "(1:7:9:2)\tD~aA^l~iyna\tN\tSTEM|POS:N|ACT|PCPL|LEM:DaA^l~|ROOT:Dll|MP|GEN\n"
     ]
    }
   ],
   "source": [
    "with open (\"QC_1.txt\",\"r\") as f:\n",
    "    text = f.read()\n",
    "    print(text)"
   ]
  },
  {
   "cell_type": "code",
   "execution_count": 40,
   "metadata": {},
   "outputs": [
    {
     "data": {
      "text/plain": [
       "1000000"
      ]
     },
     "execution_count": 40,
     "metadata": {},
     "output_type": "execute_result"
    }
   ],
   "source": [
    "len(text)\n",
    "nlp.max_length"
   ]
  },
  {
   "cell_type": "code",
   "execution_count": 42,
   "metadata": {},
   "outputs": [
    {
     "data": {
      "text/plain": [
       "# PLEASE DO NOT REMOVE OR CHANGE THIS COPYRIGHT BLOCK\n",
       "#====================================================================\n",
       "#\n",
       "#  Quranic Arabic Corpus (morphology, version 0.4)\n",
       "#  Copyright (C) 2011 Kais Dukes\n",
       "#  License: GNU General Public License\n",
       "#\n",
       "#  The Quranic Arabic Corpus includes syntactic and morphological\n",
       "#  annotation of the Quran, and builds on the verified Arabic text\n",
       "#  distributed by the Tanzil project.\n",
       "#\n",
       "#  TERMS OF USE:\n",
       "#\n",
       "#  - Permission is granted to copy and distribute verbatim copies\n",
       "#    of this file, but CHANGING IT IS NOT ALLOWED.\n",
       "#\n",
       "#  - This annotation can be used in any website or application,\n",
       "#    provided its source (the Quranic Arabic Corpus) is clearly\n",
       "#    indicated, and a link is made to http://corpus.quran.com to enable\n",
       "#    users to keep track of changes.\n",
       "#\n",
       "#  - This copyright notice shall be included in all verbatim copies\n",
       "#    of the text, and shall be reproduced appropriately in all works\n",
       "#    derived from or containing substantial portion of this file.\n",
       "#\n",
       "#  Please check updates at: http://corpus.quran.com/download\n",
       "\n",
       "# PLEASE DO NOT REMOVE OR CHANGE THIS COPYRIGHT BLOCK\n",
       "#====================================================================\n",
       "#\n",
       "#  Tanzil Quran Text (Uthmani, version 1.0.2)\n",
       "#  Copyright (C) 2008-2009 Tanzil.info\n",
       "#  License: Creative Commons BY-ND 3.0 Unported\n",
       "#\n",
       "#  This copy of quran text is carefully produced, highly\n",
       "#  verified and continuously monitored by a group of specialists\n",
       "#  at Tanzil project.\n",
       "#\n",
       "#  TERMS OF USE:\n",
       "#\n",
       "#  - Permission is granted to copy and distribute verbatim copies\n",
       "#    of this text, but CHANGING IT IS NOT ALLOWED.\n",
       "#\n",
       "#  - This quran text can be used in any website or application,\n",
       "#    provided its source (Tanzil.info) is clearly indicated, and\n",
       "#    a link is made to http://tanzil.info to enable users to keep\n",
       "#    track of changes.\n",
       "#\n",
       "#  - This copyright notice shall be included in all verbatim copies\n",
       "#    of the text, and shall be reproduced appropriately in all files\n",
       "#    derived from or containing substantial portion of this text.\n",
       "#\n",
       "#  Please check updates at: http://tanzil.info/updates/\n",
       "#\n",
       "#====================================================================\n",
       "\n",
       "LOCATION\tFORM\tTAG\tFEATURES\n",
       "(1:1:1:1)\tbi\tP\tPREFIX|bi+\n",
       "(1:1:1:2)\tsomi\tN\tSTEM|POS:N|LEM:{som|ROOT:smw|M|GEN\n",
       "(1:1:2:1)\t{ll~ahi\tPN\tSTEM|POS:PN|LEM:{ll~ah|ROOT:Alh|GEN\n",
       "(1:1:3:1)\t{l\tDET\tPREFIX|Al+\n",
       "(1:1:3:2)\tr~aHoma`ni\tADJ\tSTEM|POS:ADJ|LEM:r~aHoma`n|ROOT:rHm|MS|GEN\n",
       "(1:1:4:1)\t{l\tDET\tPREFIX|Al+\n",
       "(1:1:4:2)\tr~aHiymi\tADJ\tSTEM|POS:ADJ|LEM:r~aHiym|ROOT:rHm|MS|GEN\n",
       "(1:2:1:1)\t{lo\tDET\tPREFIX|Al+\n",
       "(1:2:1:2)\tHamodu\tN\tSTEM|POS:N|LEM:Hamod|ROOT:Hmd|M|NOM\n",
       "(1:2:2:1)\tli\tP\tPREFIX|l:P+\n",
       "(1:2:2:2)\tl~ahi\tPN\tSTEM|POS:PN|LEM:{ll~ah|ROOT:Alh|GEN\n",
       "(1:2:3:1)\trab~i\tN\tSTEM|POS:N|LEM:rab~|ROOT:rbb|M|GEN\n",
       "(1:2:4:1)\t{lo\tDET\tPREFIX|Al+\n",
       "(1:2:4:2)\tEa`lamiyna\tN\tSTEM|POS:N|LEM:Ea`lamiyn|ROOT:Elm|MP|GEN\n",
       "(1:3:1:1)\t{l\tDET\tPREFIX|Al+\n",
       "(1:3:1:2)\tr~aHoma`ni\tADJ\tSTEM|POS:ADJ|LEM:r~aHoma`n|ROOT:rHm|MS|GEN\n",
       "(1:3:2:1)\t{l\tDET\tPREFIX|Al+\n",
       "(1:3:2:2)\tr~aHiymi\tADJ\tSTEM|POS:ADJ|LEM:r~aHiym|ROOT:rHm|MS|GEN\n",
       "(1:4:1:1)\tma`liki\tN\tSTEM|POS:N|ACT|PCPL|LEM:ma`lik|ROOT:mlk|M|GEN\n",
       "(1:4:2:1)\tyawomi\tN\tSTEM|POS:N|LEM:yawom|ROOT:ywm|M|GEN\n",
       "(1:4:3:1)\t{l\tDET\tPREFIX|Al+\n",
       "(1:4:3:2)\td~iyni\tN\tSTEM|POS:N|LEM:diyn|ROOT:dyn|M|GEN\n",
       "(1:5:1:1)\t<iy~aAka\tPRON\tSTEM|POS:PRON|LEM:<iy~aA|2MS\n",
       "(1:5:2:1)\tnaEobudu\tV\tSTEM|POS:V|IMPF|LEM:Eabada|ROOT:Ebd|1P\n",
       "(1:5:3:1)\twa\tCONJ\tPREFIX|w:CONJ+\n",
       "(1:5:3:2)\t<iy~aAka\tPRON\tSTEM|POS:PRON|LEM:<iy~aA|2MS\n",
       "(1:5:4:1)\tnasotaEiynu\tV\tSTEM|POS:V|IMPF|(X)|LEM:{sotaEiynu|ROOT:Ewn|1P\n",
       "(1:6:1:1)\t{hodi\tV\tSTEM|POS:V|IMPV|LEM:hadaY|ROOT:hdy|2MS\n",
       "(1:6:1:2)\tnaA\tPRON\tSUFFIX|PRON:1P\n",
       "(1:6:2:1)\t{l\tDET\tPREFIX|Al+\n",
       "(1:6:2:2)\tS~ira`Ta\tN\tSTEM|POS:N|LEM:Sira`T|ROOT:SrT|M|ACC\n",
       "(1:6:3:1)\t{lo\tDET\tPREFIX|Al+\n",
       "(1:6:3:2)\tmusotaqiyma\tADJ\tSTEM|POS:ADJ|ACT|PCPL|(X)|LEM:m~usotaqiym|ROOT:qwm|M|ACC\n",
       "(1:7:1:1)\tSira`Ta\tN\tSTEM|POS:N|LEM:Sira`T|ROOT:SrT|M|ACC\n",
       "(1:7:2:1)\t{l~a*iyna\tREL\tSTEM|POS:REL|LEM:{l~a*iY|MP\n",
       "(1:7:3:1)\t>anoEamo\tV\tSTEM|POS:V|PERF|(IV)|LEM:>anoEama|ROOT:nEm|2MS\n",
       "(1:7:3:2)\tta\tPRON\tSUFFIX|PRON:2MS\n",
       "(1:7:4:1)\tEalayo\tP\tSTEM|POS:P|LEM:EalaY`\n",
       "(1:7:4:2)\thimo\tPRON\tSUFFIX|PRON:3MP\n",
       "(1:7:5:1)\tgayori\tN\tSTEM|POS:N|LEM:gayor|ROOT:gyr|M|GEN\n",
       "(1:7:6:1)\t{lo\tDET\tPREFIX|Al+\n",
       "(1:7:6:2)\tmagoDuwbi\tN\tSTEM|POS:N|PASS|PCPL|LEM:magoDuwb|ROOT:gDb|M|GEN\n",
       "(1:7:7:1)\tEalayo\tP\tSTEM|POS:P|LEM:EalaY`\n",
       "(1:7:7:2)\thimo\tPRON\tSUFFIX|PRON:3MP\n",
       "(1:7:8:1)\twa\tCONJ\tPREFIX|w:CONJ+\n",
       "(1:7:8:2)\tlaA\tNEG\tSTEM|POS:NEG|LEM:laA\n",
       "(1:7:9:1)\t{l\tDET\tPREFIX|Al+\n",
       "(1:7:9:2)\tD~aA^l~iyna\tN\tSTEM|POS:N|ACT|PCPL|LEM:DaA^l~|ROOT:Dll|MP|GEN"
      ]
     },
     "execution_count": 42,
     "metadata": {},
     "output_type": "execute_result"
    }
   ],
   "source": [
    "doc= nlp(text)\n",
    "doc"
   ]
  },
  {
   "cell_type": "code",
   "execution_count": 45,
   "metadata": {},
   "outputs": [
    {
     "data": {
      "text/plain": [
       "4469"
      ]
     },
     "execution_count": 45,
     "metadata": {},
     "output_type": "execute_result"
    }
   ],
   "source": [
    "len(text)\n"
   ]
  },
  {
   "cell_type": "code",
   "execution_count": 46,
   "metadata": {},
   "outputs": [
    {
     "data": {
      "text/plain": [
       "1375"
      ]
     },
     "execution_count": 46,
     "metadata": {},
     "output_type": "execute_result"
    }
   ],
   "source": [
    "len(doc)"
   ]
  },
  {
   "cell_type": "code",
   "execution_count": 47,
   "metadata": {},
   "outputs": [
    {
     "name": "stdout",
     "output_type": "stream",
     "text": [
      "#\n",
      " \n",
      "P\n",
      "L\n",
      "E\n",
      "A\n",
      "S\n",
      "E\n",
      " \n",
      "D\n"
     ]
    }
   ],
   "source": [
    "for token in text[0:10]:\n",
    "    print(token)"
   ]
  },
  {
   "cell_type": "code",
   "execution_count": null,
   "metadata": {},
   "outputs": [],
   "source": []
  }
 ],
 "metadata": {
  "interpreter": {
   "hash": "0a02ee646c8ad2dd595e5341b6f477eb50ac789689ed638f7c72990585c4481e"
  },
  "kernelspec": {
   "display_name": "Python 3.8.9 64-bit",
   "language": "python",
   "name": "python3"
  },
  "language_info": {
   "codemirror_mode": {
    "name": "ipython",
    "version": 3
   },
   "file_extension": ".py",
   "mimetype": "text/x-python",
   "name": "python",
   "nbconvert_exporter": "python",
   "pygments_lexer": "ipython3",
   "version": "3.8.9"
  },
  "orig_nbformat": 4
 },
 "nbformat": 4,
 "nbformat_minor": 2
}
